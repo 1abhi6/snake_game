{
 "cells": [
  {
   "cell_type": "code",
   "execution_count": 51,
   "id": "afe1cb10",
   "metadata": {},
   "outputs": [],
   "source": [
    "import cv2\n",
    "import numpy as np\n",
    "from cvzone.HandTrackingModule import HandDetector\n",
    "import cvzone"
   ]
  },
  {
   "cell_type": "code",
   "execution_count": 64,
   "id": "101f24c4",
   "metadata": {},
   "outputs": [],
   "source": [
    "import math\n",
    "import random"
   ]
  },
  {
   "cell_type": "code",
   "execution_count": 53,
   "id": "31501775",
   "metadata": {},
   "outputs": [],
   "source": [
    "detector = HandDetector(detectionCon=0.8, maxHands=1)"
   ]
  },
  {
   "cell_type": "code",
   "execution_count": 82,
   "id": "787ffab3",
   "metadata": {},
   "outputs": [],
   "source": [
    "class SnakeGameClass:\n",
    "    def __init__(self, pathFood):\n",
    "        self.points = [] # All point of the snake\n",
    "        self.lengths = [] # Distance between each points\n",
    "        self.currentLength = 0 # Total Length of the sanke\n",
    "        self.allowedLength = 150 # Total allowed length\n",
    "        self.previousHead = 0,0 # Previous head point\n",
    "        self.score = 0 # Keep track of score\n",
    "        \n",
    "        self.imgFood = cv2.imread(pathFood, cv2.IMREAD_UNCHANGED)\n",
    "        self.hFood, self.wFood, _ = self.imgFood.shape\n",
    "        self.foodPoint = 0,0\n",
    "        self.randomFoodLocation()\n",
    "        \n",
    "    def randomFoodLocation(self):\n",
    "        self.foodPoint = random.randint(100, 850), random.randint(100, 500)\n",
    "    \n",
    "    def update(self, imgMain, currentHead):\n",
    "        px, py = self.previousHead\n",
    "        cx, cy = currentHead\n",
    "        \n",
    "        self.points.append([cx, cy])\n",
    "        distance = math.hypot(cx-px, cy-py)\n",
    "        self.lengths.append(distance)\n",
    "        self.currentLength += distance\n",
    "        self.previousHead = cx, cy\n",
    "        \n",
    "        # Length Reduction\n",
    "        if self.currentLength > self.allowedLength:\n",
    "            for i, length in enumerate(self.lengths):\n",
    "                self.currentLength -= length\n",
    "                self.lengths.pop(i)\n",
    "                self.points.pop(i)\n",
    "                \n",
    "                if self.currentLength < self.allowedLength:\n",
    "                    break\n",
    "        \n",
    "        # Check if snake ate the food\n",
    "        rx, ry = self.foodPoint\n",
    "        if rx - self.wFood // 2 < cx < rx + self.wFood // 2 and \\\n",
    "                    ry - self.hFood // 2 < cy < ry + self.hFood // 2:\n",
    "            self.randomFoodLocation()\n",
    "            self.allowedLength += 50\n",
    "            self.score += 1\n",
    "            print(self.score)\n",
    "            \n",
    "    \n",
    "        # Draw snake\n",
    "        if self.points:\n",
    "            for i, point in enumerate(self.points):\n",
    "                if i != 0:\n",
    "                    cv2.line(imgMain, self.points[i-1], self.points[i], (0, 0, 255), 20)\n",
    "            cv2.circle(imgMain, self.points[-1], 20, (200,0,200), cv2.FILLED)\n",
    "            \n",
    "        # Draw Food\n",
    "        rx, ry = self.foodPoint\n",
    "        imgMain = cvzone.overlayPNG(imgMain, self.imgFood, (rx - self.wFood // 2, ry - self.hFood // 2))\n",
    "        \n",
    "        return imgMain"
   ]
  },
  {
   "cell_type": "code",
   "execution_count": 80,
   "id": "fe921a7c",
   "metadata": {},
   "outputs": [],
   "source": [
    "game = SnakeGameClass(\"resources/Donut.png\")"
   ]
  },
  {
   "cell_type": "code",
   "execution_count": 81,
   "id": "ccc064e0",
   "metadata": {},
   "outputs": [
    {
     "name": "stdout",
     "output_type": "stream",
     "text": [
      "1\n",
      "2\n",
      "3\n",
      "4\n",
      "5\n",
      "6\n",
      "7\n",
      "8\n",
      "9\n",
      "10\n"
     ]
    }
   ],
   "source": [
    "cap = cv2.VideoCapture(1)\n",
    "cap.set(3, 1280)\n",
    "cap.set(4, 720)\n",
    "\n",
    "while True:\n",
    "    success, img = cap.read()\n",
    "    img = cv2.flip(img, 1)\n",
    "    hands, img = detector.findHands(img, flipType=False)\n",
    "    \n",
    "    if hands:\n",
    "        lmList = hands[0]['lmList']\n",
    "        pointIndex = lmList[8][0:2]\n",
    "        img = game.update(img, pointIndex)\n",
    "    \n",
    "    if cv2.waitKey(1) & 0xFF == ord('q'):\n",
    "        break\n",
    "        \n",
    "    cv2.imshow('Image', img)\n",
    "    cv2.waitKey(1)\n",
    "    \n",
    "cap.release()\n",
    "cv2.destroyAllWindows()"
   ]
  },
  {
   "cell_type": "code",
   "execution_count": null,
   "id": "e4a7ffbf",
   "metadata": {},
   "outputs": [],
   "source": []
  }
 ],
 "metadata": {
  "kernelspec": {
   "display_name": "Python 3 (ipykernel)",
   "language": "python",
   "name": "python3"
  },
  "language_info": {
   "codemirror_mode": {
    "name": "ipython",
    "version": 3
   },
   "file_extension": ".py",
   "mimetype": "text/x-python",
   "name": "python",
   "nbconvert_exporter": "python",
   "pygments_lexer": "ipython3",
   "version": "3.11.3"
  }
 },
 "nbformat": 4,
 "nbformat_minor": 5
}
